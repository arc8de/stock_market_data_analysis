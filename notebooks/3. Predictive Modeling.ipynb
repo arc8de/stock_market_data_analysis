{
 "cells": [
  {
   "cell_type": "markdown",
   "id": "05d9c590",
   "metadata": {},
   "source": [
    "# Technical Analysis Example\n",
    "\n",
    "To analyze trends and identify potential trading signals for Apple (AAPL), we calculate two moving averages on the closing price: a short-term (20-day) and a longer-term (50-day) average."
   ]
  },
  {
   "cell_type": "code",
   "execution_count": null,
   "id": "b7d594eb",
   "metadata": {},
   "outputs": [],
   "source": [
    "from prophet import Prophet\n",
    "from sklearn.metrics import mean_squared_error\n",
    "import pandas as pd\n",
    "import matplotlib.pyplot as plt\n",
    "\n"
   ]
  },
  {
   "cell_type": "markdown",
   "id": "3914ff98",
   "metadata": {},
   "source": [
    "**Interpretation:**  \n",
    "The plot shows AAPL's closing price alongside its 20-day and 50-day moving averages. Crossovers between these averages can signal shifts in trend—when the short-term average rises above the long-term, it may indicate bullish momentum, while the opposite could signal a bearish trend."
   ]
  },
  {
   "cell_type": "markdown",
   "id": "2d266857",
   "metadata": {},
   "source": [
    "# Load the Data\n",
    "\n",
    "Read the cleaned stock data from the CSV file and ensure the 'Date' column is in datetime format for accurate time series analysis:"
   ]
  },
  {
   "cell_type": "code",
   "execution_count": null,
   "id": "77346f99",
   "metadata": {},
   "outputs": [],
   "source": [
    "# Load the data\n",
    "df = pd.read_csv('C:/Users/Amit/Desktop/stock_market_data_analysis/notebooks/data/stock_data.csv')  # Update path as needed\n",
    "df['Date'] = pd.to_datetime(df['Date'])  # Convert to datetime\n",
    "\n"
   ]
  },
  {
   "cell_type": "markdown",
   "id": "2bb2633c",
   "metadata": {},
   "source": [
    "This prepares the DataFrame `df` for further analysis and visualization."
   ]
  },
  {
   "cell_type": "markdown",
   "id": "ee39eae9",
   "metadata": {},
   "source": [
    "# Prepare Data for Forecasting\n",
    "\n",
    "Select Apple (AAPL) data and format it for Prophet, renaming columns as required:"
   ]
  },
  {
   "cell_type": "code",
   "execution_count": null,
   "id": "5399c1dd",
   "metadata": {},
   "outputs": [],
   "source": [
    "# Prepare data for forecasting\n",
    "aapl = df[df['Ticker'] == 'AAPL'][['Date', 'Close']]\n",
    "aapl = aapl.rename(columns={'Date': 'ds', 'Close': 'y'})\n",
    "\n"
   ]
  },
  {
   "cell_type": "markdown",
   "id": "5888f1ed",
   "metadata": {},
   "source": [
    "\n",
    "The resulting DataFrame `aapl` will have columns `ds` (date) and `y` (value), matching Prophet's input requirements.\n"
   ]
  },
  {
   "cell_type": "markdown",
   "id": "681a4b26",
   "metadata": {},
   "source": [
    "# Train Prophet Model\n",
    "\n",
    "Initialize and fit a Prophet model to the AAPL data:"
   ]
  },
  {
   "cell_type": "code",
   "execution_count": null,
   "id": "c17f8398",
   "metadata": {},
   "outputs": [],
   "source": [
    "# Train Prophet model\n",
    "model = Prophet(daily_seasonality=False)\n",
    "model.fit(aapl)"
   ]
  },
  {
   "cell_type": "markdown",
   "id": "2197b076",
   "metadata": {},
   "source": [
    "This trains the forecasting model on Apple's historical closing prices, capturing relevant trends and seasonality."
   ]
  },
  {
   "cell_type": "markdown",
   "id": "b1b680c5",
   "metadata": {},
   "source": [
    "# Make Future Predictions\n",
    "\n",
    "Generate a future dataframe and forecast the next 30 days using the trained Prophet model:\n"
   ]
  },
  {
   "cell_type": "code",
   "execution_count": null,
   "id": "0fab0dda",
   "metadata": {},
   "outputs": [],
   "source": [
    "# Make future predictions\n",
    "future = model.make_future_dataframe(periods=30, freq='B')\n",
    "forecast = model.predict(future)\n"
   ]
  },
  {
   "cell_type": "markdown",
   "id": "173277cf",
   "metadata": {},
   "source": [
    "- `make_future_dataframe(periods=30)` extends the time series 30 days into the future.\n",
    "- `model.predict(future)` produces forecasts for both the historical and future dates.\n",
    "\n",
    "The resulting `forecast` DataFrame contains the predicted values and confidence intervals for each date."
   ]
  },
  {
   "cell_type": "markdown",
   "id": "d2eae774",
   "metadata": {},
   "source": [
    "# Plot the Forecast\n",
    "\n",
    "Visualize the predicted Apple (AAPL) prices using the trained Prophet model:"
   ]
  },
  {
   "cell_type": "code",
   "execution_count": null,
   "id": "ed262798",
   "metadata": {},
   "outputs": [],
   "source": [
    "# Plot forecast\n",
    "fig = model.plot(forecast)\n",
    "plt.title('AAPL Price Forecast')\n",
    "plt.show()"
   ]
  },
  {
   "cell_type": "markdown",
   "id": "278b7236",
   "metadata": {},
   "source": [
    "This generates a plot showing the historical data, forecasted values, and confidence intervals for the next 30 days."
   ]
  }
 ],
 "metadata": {
  "kernelspec": {
   "display_name": "Python 3",
   "language": "python",
   "name": "python3"
  },
  "language_info": {
   "codemirror_mode": {
    "name": "ipython",
    "version": 3
   },
   "file_extension": ".py",
   "mimetype": "text/x-python",
   "name": "python",
   "nbconvert_exporter": "python",
   "pygments_lexer": "ipython3",
   "version": "3.13.3"
  }
 },
 "nbformat": 4,
 "nbformat_minor": 5
}
