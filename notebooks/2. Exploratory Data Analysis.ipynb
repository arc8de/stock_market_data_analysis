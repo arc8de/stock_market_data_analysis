{
 "cells": [
  {
   "cell_type": "markdown",
   "id": "b79fc48e",
   "metadata": {},
   "source": [
    "# Importing Visualization Tools\n",
    "\n",
    "To prepare for exploratory data analysis, first import essential libraries and ensure the project structure allows access to custom modules.  \n",
    "The following setup enables importing visualization functions from the `src` directory:"
   ]
  },
  {
   "cell_type": "code",
   "execution_count": null,
   "id": "16b1b1f8",
   "metadata": {},
   "outputs": [],
   "source": [
    "import pandas as pd\n",
    "import sys\n",
    "import os\n",
    "import matplotlib.dates as mdates\n",
    "\n",
    "# Add the parent directory to sys.path so 'src' can be imported\n",
    "sys.path.append(os.path.abspath(os.path.join(os.getcwd(), '..')))\n",
    "\n",
    "from src.visualization import *"
   ]
  },
  {
   "cell_type": "markdown",
   "id": "35799cd3",
   "metadata": {},
   "source": [
    "This setup ensures you can use all custom plotting functions for data exploration and storytelling."
   ]
  },
  {
   "cell_type": "markdown",
   "id": "bedd3afc",
   "metadata": {},
   "source": [
    "# Load Cleaned Data\n",
    "\n",
    "Load the preprocessed stock data from the CSV file for analysis:\n"
   ]
  },
  {
   "cell_type": "code",
   "execution_count": null,
   "id": "d6a61af8",
   "metadata": {},
   "outputs": [],
   "source": [
    "# Load cleaned data\n",
    "df = pd.read_csv('data/stock_data.csv')"
   ]
  },
  {
   "cell_type": "markdown",
   "id": "db652a7a",
   "metadata": {},
   "source": [
    "This creates a DataFrame `df` containing the cleaned and structured data, ready for visualization and further exploration."
   ]
  },
  {
   "cell_type": "markdown",
   "id": "f1acfa76",
   "metadata": {},
   "source": [
    "# Mapping Tickers to Sectors and Visualizing Insights\n",
    "\n",
    "To enrich our dataset and enable sector-based analysis, we map each stock ticker to its corresponding sector. If the 'Sector' column does not already exist in the DataFrame, we create it using a predefined mapping."
   ]
  },
  {
   "cell_type": "code",
   "execution_count": null,
   "id": "eec1c728",
   "metadata": {},
   "outputs": [],
   "source": [
    "# Example mapping of tickers to sectors (update as needed)\n",
    "ticker_to_sector = {\n",
    "\t'AAPL': 'Technology',\n",
    "\t'AMZN': 'Consumer Discretionary',\n",
    "\t'GOOGL': 'Communication Services',\n",
    "\t'GS': 'Financials',\n",
    "\t'JPM': 'Financials',\n",
    "\t'MSFT': 'Technology',\n",
    "\t'NFLX': 'Communication Services',\n",
    "\t'NVDA': 'Technology',\n",
    "\t'TSLA': 'Consumer Discretionary',\n",
    "\t'WMT': 'Consumer Staples'\n",
    "}\n",
    "\n",
    "# Add 'Sector' column if not present\n",
    "if 'Sector' not in df.columns:\n",
    "\tdf['Sector'] = df['Ticker'].map(ticker_to_sector)\n",
    "\n",
    "# Plot Apple candlestick chart\n",
    "plot_candlestick(df, 'AAPL')\n",
    "\n",
    "# Plot sector performance\n",
    "plot_sector_performance(df)\n",
    "\n",
    "# Plot correlation heatmap\n",
    "plot_correlation_heatmap(df)"
   ]
  },
  {
   "cell_type": "markdown",
   "id": "a4471a61",
   "metadata": {},
   "source": [
    "With sector information added, we can generate rich visualizations to tell the story of stock performance and relationships:\n",
    "\n",
    "- **Apple Candlestick Chart:**  \n",
    "  Visualizes price movements, showing trends and volatility for AAPL over time.\n",
    "- **Sector Performance:**  \n",
    "  Compares daily returns across sectors, highlighting which industries outperformed or lagged during the analysis period.\n",
    "- **Correlation Heatmap:**  \n",
    "  Reveals relationships between stock returns, identifying clusters of highly correlated companies (often within the same sector).\n",
    "\n",
    "Each visualization helps interpret the market dynamics, sector trends, and inter-stock relationships, providing a narrative that goes beyond raw numbers."
   ]
  },
  {
   "cell_type": "markdown",
   "id": "60074b6f",
   "metadata": {},
   "source": [
    "# Technical Analysis Example\n",
    "\n",
    "To analyze trends and identify potential trading signals for Apple (AAPL), we calculate two moving averages on the closing price: a short-term (20-day) and a longer-term (50-day) average."
   ]
  },
  {
   "cell_type": "code",
   "execution_count": null,
   "id": "39e3fd8e",
   "metadata": {},
   "outputs": [],
   "source": [
    "# Technical analysis example\n",
    "aapl = df[df['Ticker'] == 'AAPL'].copy()\n",
    "aapl['MA_20'] = aapl['Close'].rolling(window=20).mean()\n",
    "aapl['MA_50'] = aapl['Close'].rolling(window=50).mean()\n",
    "\n",
    "plt.figure(figsize=(12,6))\n",
    "aapl[['Close', 'MA_20', 'MA_50']].plot(ax=plt.gca())  # specify axes to keep it clean\n",
    "\n",
    "# Format x-axis dates\n",
    "plt.gca().xaxis.set_major_formatter(mdates.DateFormatter('%b %d'))  # e.g., Oct 01\n",
    "plt.gcf().autofmt_xdate()  # auto-rotate date labels\n",
    "\n",
    "plt.title('AAPL Price with Moving Averages')\n",
    "plt.xlabel('Date')\n",
    "plt.ylabel('Price')\n",
    "plt.grid(True)\n",
    "plt.tight_layout()\n",
    "plt.show()\n"
   ]
  },
  {
   "cell_type": "markdown",
   "id": "8e227db6",
   "metadata": {},
   "source": [
    "**Interpretation:**  \n",
    "The plot shows AAPL's (Apple's) closing price alongside its 20-day and 50-day moving averages. Crossovers between these averages can signal shifts in trend—when the short-term average rises above the long-term, it may indicate bullish momentum, while the opposite could signal a bearish trend."
   ]
  }
 ],
 "metadata": {
  "kernelspec": {
   "display_name": "Python 3",
   "language": "python",
   "name": "python3"
  },
  "language_info": {
   "codemirror_mode": {
    "name": "ipython",
    "version": 3
   },
   "file_extension": ".py",
   "mimetype": "text/x-python",
   "name": "python",
   "nbconvert_exporter": "python",
   "pygments_lexer": "ipython3",
   "version": "3.13.3"
  }
 },
 "nbformat": 4,
 "nbformat_minor": 5
}
