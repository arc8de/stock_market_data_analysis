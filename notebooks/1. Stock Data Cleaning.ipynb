{
 "cells": [
  {
   "cell_type": "markdown",
   "id": "a31d29e8",
   "metadata": {},
   "source": [
    "# Data Collection and Cleaning\n",
    "\n",
    "First, set up your Python environment to ensure that modules from the parent directory can be imported. Then, import the necessary functions for data collection and cleaning."
   ]
  },
  {
   "cell_type": "code",
   "execution_count": null,
   "id": "b7429ea5",
   "metadata": {},
   "outputs": [],
   "source": [
    "# Data Collection and Cleaning\n",
    "import os\n",
    "import sys\n",
    "\n",
    "# Add parent directory to Python path\n",
    "module_path = os.path.abspath(os.path.join('..'))\n",
    "if module_path not in sys.path:\n",
    "    sys.path.append(module_path)\n",
    "\n",
    "from src.data_processing import fetch_stock_data, preprocess_data\n",
    "import pandas as pd"
   ]
  },
  {
   "cell_type": "markdown",
   "id": "0bb146fe",
   "metadata": {},
   "source": [
    "- `fetch_stock_data`: Function to collect raw stock data.\n",
    "- `preprocess_data`: Function to clean and preprocess the collected data.\n",
    "- `pandas`: Library for data manipulation and analysis."
   ]
  },
  {
   "cell_type": "markdown",
   "id": "58c50470",
   "metadata": {},
   "source": [
    "# Fetch Sample Data\n",
    "\n",
    "Select a list of stock tickers from different sectors to create a diverse dataset for analysis. Then, use the `fetch_stock_data` function to download daily historical price data for each ticker over the specified date range.\n"
   ]
  },
  {
   "cell_type": "code",
   "execution_count": null,
   "id": "a6ba3bc0",
   "metadata": {},
   "outputs": [],
   "source": [
    "# Fetch sample data\n",
    "tickers = ['AAPL', 'MSFT', 'GOOGL', 'AMZN', 'TSLA', \n",
    "           'JPM', 'GS', 'WMT', 'NVDA', 'NFLX']\n",
    "stock_data = fetch_stock_data(tickers, '2023-01-01', '2025-06-07') #Enter date between which you want to fetch data from."
   ]
  },
  {
   "cell_type": "markdown",
   "id": "c0892945",
   "metadata": {},
   "source": [
    "- The `tickers` list includes technology, automotive, finance, retail, and entertainment companies.\n",
    "- The data collected covers the period from January 1, 2023 to June 08, 2025, allowing for analysis of trends across major recent market events."
   ]
  },
  {
   "cell_type": "markdown",
   "id": "f4b6a21d",
   "metadata": {},
   "source": [
    "# Data Preparation Insights\n",
    "\n",
    "Before analysis, it is important to understand the structure of the dataset. By checking the columns in `stock_data`, we ensure that all necessary fields (such as 'Date', 'Ticker', 'Close', etc.) are present for further processing.\n",
    "\n",
    "Next, we calculate the daily return for each ticker, which measures the day-to-day percentage change in closing price. This metric is essential for evaluating stock performance and volatility across different companies.\n",
    "\n",
    "Finally, we preprocess the data to handle any inconsistencies or missing values. This step ensures the dataset is clean and reliable, providing a solid foundation for subsequent exploratory analysis and visualization."
   ]
  },
  {
   "cell_type": "code",
   "execution_count": null,
   "id": "5b4b2f4c",
   "metadata": {},
   "outputs": [],
   "source": [
    "# Check columns before preprocessing\n",
    "print(\"Columns in stock_data:\", stock_data.columns)\n",
    "\n",
    "# Calculate Daily_Return for each ticker\n",
    "stock_data['Daily_Return'] = stock_data.groupby('Ticker')['Close'].pct_change()\n",
    "\n",
    "# Preprocess data\n",
    "cleaned_data = preprocess_data(stock_data)"
   ]
  },
  {
   "cell_type": "markdown",
   "id": "1176ddaa",
   "metadata": {},
   "source": [
    "# Saving Cleaned Data\n",
    "After preprocessing, save the cleaned stock data to a CSV file for future use and reproducibility:"
   ]
  },
  {
   "cell_type": "code",
   "execution_count": null,
   "id": "42836a5c",
   "metadata": {},
   "outputs": [],
   "source": [
    "# Save cleaned data\n",
    "stock_data.to_csv('data/stock_data.csv', index=False)"
   ]
  },
  {
   "cell_type": "markdown",
   "id": "026fbd1d",
   "metadata": {},
   "source": [
    "This exports the DataFrame to `data/stock_data.csv`, making it easy to reload the processed data for further analysis or sharing."
   ]
  }
 ],
 "metadata": {
  "kernelspec": {
   "display_name": "Python 3",
   "language": "python",
   "name": "python3"
  },
  "language_info": {
   "codemirror_mode": {
    "name": "ipython",
    "version": 3
   },
   "file_extension": ".py",
   "mimetype": "text/x-python",
   "name": "python",
   "nbconvert_exporter": "python",
   "pygments_lexer": "ipython3",
   "version": "3.13.3"
  }
 },
 "nbformat": 4,
 "nbformat_minor": 5
}
